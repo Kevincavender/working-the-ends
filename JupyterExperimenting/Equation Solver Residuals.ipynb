{
 "cells": [
  {
   "cell_type": "raw",
   "metadata": {},
   "source": [
    "class material_properties:\n",
    "\twords\n",
    "\n",
    "class property(material_properties):\n",
    "\tdef material:\n",
    "\t\t#notes\n",
    "\t\tequation\n",
    "\t\tflag warning if out of bounds\n",
    "\t\tleave constant if above or below bounds\n",
    "\t\treturn answer"
   ]
  },
  {
   "cell_type": "code",
   "execution_count": 1,
   "metadata": {
    "collapsed": true
   },
   "outputs": [],
   "source": [
    "def eq(X):\n",
    "    return X**2-5"
   ]
  },
  {
   "cell_type": "code",
   "execution_count": 2,
   "metadata": {},
   "outputs": [
    {
     "name": "stdout",
     "output_type": "stream",
     "text": [
      "r =  3.9940039975019808   x =  2.9990004997502053   drdx =  2.0009999999999195\n",
      "r =  0.4439263698603728   x =  2.333222314709932   drdx =  5.999000999500126\n",
      "r =  0.009141256081204752   x =  2.2381110910947215   drdx =  4.667444629419926\n",
      "r =  6.210365543601881e-06   x =  2.2360693661793105   drdx =  4.4772221821887115\n",
      "r =  1.3902949902444561e-09   x =  2.236067977810669   drdx =  4.473138732357995\n",
      "r =  3.099742684753437e-13   x =  2.236067977499859   drdx =  4.473135955620933\n",
      "r =  8.881784197001252e-16   x =  2.23606797749979   drdx =  4.473135954999208\n"
     ]
    }
   ],
   "source": [
    "x_guess = 1\n",
    "dx = 0.001\n",
    "r = eq(x_guess)\n",
    "for i in range(7):\n",
    "    drdx = (eq(x_guess+dx)-eq(x_guess))/dx\n",
    "    x_guess = x_guess - (r/drdx)\n",
    "    r = eq(x_guess)\n",
    "    print(\"r = \", r, \"  x = \", x_guess, \"  drdx = \", drdx)"
   ]
  },
  {
   "cell_type": "code",
   "execution_count": 3,
   "metadata": {},
   "outputs": [
    {
     "name": "stdout",
     "output_type": "stream",
     "text": [
      "r =  3.9940039975019808   x =  2.9990004997502053   drdx =  2.0009999999999195\n",
      "r =  0.4439263698603728   x =  2.333222314709932   drdx =  5.999000999500126\n",
      "r =  0.009141256081204752   x =  2.2381110910947215   drdx =  4.667444629419926\n",
      "r =  6.210365543601881e-06   x =  2.2360693661793105   drdx =  4.4772221821887115\n",
      "r =  1.3902949902444561e-09   x =  2.236067977810669   drdx =  4.473138732357995\n",
      "r =  3.099742684753437e-13   x =  2.236067977499859   drdx =  4.473135955620933\n",
      "r =  8.881784197001252e-16   x =  2.23606797749979   drdx =  4.473135954999208\n",
      "r =  8.881784197001252e-16   x =  2.23606797749979   drdx =  4.47313595499832\n"
     ]
    }
   ],
   "source": [
    "iter = 8\n",
    "x_guess = 1\n",
    "dx = 0.001\n",
    "r = eq(x_guess)\n",
    "for i in range(iter):\n",
    "    drdx = (eq(x_guess+dx)-eq(x_guess))/dx\n",
    "    x_guess -= (r/drdx)\n",
    "    r = eq(x_guess)\n",
    "    print(\"r = \", r, \"  x = \", x_guess, \"  drdx = \", drdx)"
   ]
  },
  {
   "cell_type": "code",
   "execution_count": 4,
   "metadata": {},
   "outputs": [
    {
     "name": "stdout",
     "output_type": "stream",
     "text": [
      "r =  3.994  x =  2.999  drdx =  2.001\n",
      "r =  0.4439  x =  2.3332  drdx =  5.999\n",
      "r =  0.0091  x =  2.2381  drdx =  4.6674\n",
      "r =  0.0  x =  2.2361  drdx =  4.4772\n"
     ]
    }
   ],
   "source": [
    "def eq(X):\n",
    "    return X**2-5\n",
    "\n",
    "iter = 8\n",
    "tolerance = 0.0009\n",
    "x_guess = 1\n",
    "dx = 0.001\n",
    "r = eq(x_guess)\n",
    "for i in range(iter):\n",
    "    drdx = (eq(x_guess+dx)-eq(x_guess))/dx\n",
    "    x_guess -= (r/drdx)\n",
    "    r = eq(x_guess)\n",
    "    print(\"r = \", round(r,4), \n",
    "          \" x = \", round(x_guess,4), \n",
    "          \" drdx = \", round(drdx,4))\n",
    "    if r < tolerance:\n",
    "        break"
   ]
  },
  {
   "cell_type": "code",
   "execution_count": 5,
   "metadata": {
    "collapsed": true
   },
   "outputs": [],
   "source": [
    "def eq1(X):\n",
    "    return X**2-4\n",
    "# X1 = 2\n",
    "def eq2(X, Y):\n",
    "    return (X**3+Y*2+4)**0.5\n",
    "# X2 should be equal to -2\n",
    "\n",
    "iter = 100\n",
    "tolerance = 0.001\n",
    "x1_guess = 1\n",
    "#need min and max bounding values for each variable\n",
    "dx1 = 0.01\n",
    "r1 = eq1(x1_guess)\n",
    "x2_guess = 200\n",
    "dx2 = 0.01\n",
    "r2 = eq2(x2_guess, x1_guess)\n",
    "data = {\"r1\":[], \"r2\":[], \"x1_guess\":[], \"x2_guess\":[],\"drdx1\":[], \"drdx2\":[]}\n",
    "for i in range(iter):\n",
    "    drdx1 = (eq1(x1_guess+dx1)-eq1(x1_guess))/dx1\n",
    "    x1_guess -= (r1/drdx1)\n",
    "    r1 = eq1(x1_guess)\n",
    "    drdx2 = (eq2(x2_guess+dx2, x1_guess)-eq2(x2_guess, x1_guess))/dx2\n",
    "    x2_guess -= (r2/drdx2)\n",
    "    if x2_guess.real < -2:\n",
    "        x2_guess = -2\n",
    "    r2 = eq2(x2_guess.real, x1_guess)\n",
    "    \n",
    "    data[\"r1\"].append(r1.real)\n",
    "    data[\"r2\"].append(r2.real)\n",
    "    data[\"x1_guess\"].append(x1_guess.real)\n",
    "    data[\"x2_guess\"].append(x2_guess.real)\n",
    "    #data[\"drdx1\"].append(drdx1)\n",
    "    #data[\"drdx2\"].append(drdx2)    \n",
    "    if r1 < tolerance and \\\n",
    "        r2 < tolerance:\n",
    "        break"
   ]
  },
  {
   "cell_type": "code",
   "execution_count": 21,
   "metadata": {},
   "outputs": [],
   "source": [
    "def eq1(X):\n",
    "    return X**2-4\n",
    "# X1 = 2\n",
    "def eq2(X, Y):\n",
    "    return (X**3+Y*2+4)**0.5\n",
    "# X2 should be equal to -2\n",
    "\n",
    "eq1_vars = ['x1_guess']\n",
    "eq2_vars = ['x2_guess', 'x1_guess']\n",
    "\n",
    "itermax = 100\n",
    "tolerance = 0.001\n",
    "x1_guess = 1\n",
    "#need min and max bounding values for each variable\n",
    "dx1 = 0.01\n",
    "r1 = eq1(x1_guess)\n",
    "x2_guess = 200\n",
    "dx2 = 0.01\n",
    "r2 = eq2(x2_guess, x1_guess)\n",
    "data = {\"r1\":[], \"r2\":[], \"x1_guess\":[], \"x2_guess\":[],\"drdx1\":[], \"drdx2\":[]}\n",
    "for i in range(itermax):\n",
    "    drdx1 = (eq1(eval(eq1_vars[0])+dx1)-eq1(eval(eq1_vars[0])))/dx1\n",
    "    x1_guess -= (r1/drdx1)\n",
    "    r1 = eq1(x1_guess)\n",
    "    drdx2 = (eq2(eval(eq2_vars[0])+dx2, eval(eq2_vars[1]))-eq2(eval(eq2_vars[0]), eval(eq2_vars[1])))/dx2\n",
    "    x2_guess -= (r2/drdx2)\n",
    "    if x2_guess.real < -2:\n",
    "        x2_guess = -2.0\n",
    "    r2 = eq2(x2_guess.real, x1_guess)\n",
    "    \n",
    "    data[\"r1\"].append(r1.real)\n",
    "    data[\"r2\"].append(r2.real)\n",
    "    data[\"x1_guess\"].append(x1_guess.real)\n",
    "    data[\"x2_guess\"].append(x2_guess.real)\n",
    "    #data[\"drdx1\"].append(drdx1)\n",
    "    #data[\"drdx2\"].append(drdx2)    \n",
    "    if r1 < tolerance and \\\n",
    "        r2 < tolerance:\n",
    "        break"
   ]
  },
  {
   "cell_type": "code",
   "execution_count": 25,
   "metadata": {},
   "outputs": [
    {
     "name": "stdout",
     "output_type": "stream",
     "text": [
      "{'eq1': {'r': [0.01, 0.001], 'x1_guess': [], 'x2_guess': [], 'drdx': []}, 'eq2': {'r': [0.01, 0.001], 'x1_guess': [], 'x2_guess': [], 'drdx': []}}\n"
     ]
    }
   ],
   "source": [
    "data = {\"eq1\": \n",
    "            {'r':[0.01, 0.001], \n",
    "             'x1_guess':[],\n",
    "             'x2_guess':[],\n",
    "             'drdx':[]\n",
    "            }\n",
    "       ,\"eq2\": \n",
    "            {'r':[0.01, 0.001], \n",
    "             'x1_guess':[], \n",
    "             'x2_guess':[],\n",
    "             'drdx':[]\n",
    "            }\n",
    "       }\n",
    "print(data)"
   ]
  },
  {
   "cell_type": "code",
   "execution_count": 22,
   "metadata": {
    "scrolled": true
   },
   "outputs": [
    {
     "name": "stdout",
     "output_type": "stream",
     "text": [
      "X1 =  2.0\n",
      "X2 =  -2.0\n",
      "R1 =  4.774136641572113e-11\n",
      "R2 =  4.8857633188541345e-06\n"
     ]
    },
    {
     "data": {
      "image/png": "[encoded data removed]",
      "text/plain": [
       "<matplotlib.figure.Figure at 0x25a538f55f8>"
      ]
     },
     "metadata": {},
     "output_type": "display_data"
    }
   ],
   "source": [
    "from matplotlib import pyplot as plt\n",
    "%matplotlib inline\n",
    "\n",
    "plt.figure()\n",
    "for key in data:\n",
    "    plt.plot(data[key], label=key)\n",
    "plt.legend(loc=(-0.4,0.0))\n",
    "plt.ylim([-50,20])\n",
    "print(\"X1 = \", round(x1_guess,4))\n",
    "print(\"X2 = \", round(x2_guess,4))\n",
    "# X2 should be equal to -2\n",
    "print(\"R1 = \", r1)\n",
    "print(\"R2 = \", r2)"
   ]
  },
  {
   "cell_type": "code",
   "execution_count": null,
   "metadata": {
    "collapsed": true
   },
   "outputs": [],
   "source": []
  },
  {
   "cell_type": "code",
   "execution_count": null,
   "metadata": {
    "collapsed": true
   },
   "outputs": [],
   "source": []
  }
 ],
 "metadata": {
  "kernelspec": {
   "display_name": "Python 3",
   "language": "python",
   "name": "python3"
  },
  "language_info": {
   "codemirror_mode": {
    "name": "ipython",
    "version": 3
   },
   "file_extension": ".py",
   "mimetype": "text/x-python",
   "name": "python",
   "nbconvert_exporter": "python",
   "pygments_lexer": "ipython3",
   "version": "3.6.1"
  }
 },
 "nbformat": 4,
 "nbformat_minor": 2
}
