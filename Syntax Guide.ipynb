{
 "cells": [
  {
   "cell_type": "markdown",
   "metadata": {
    "collapsed": true
   },
   "source": [
    "# Syntax Guide for Equation Solver\n",
    "### Check Function:\n",
    "1. check for divider [=]\n",
    "```python\n",
    "x = 2\n",
    "x2\n",
    "```\n",
    "1. check for duplicate equations\n",
    "```\n",
    "y=1\n",
    "y=1\n",
    "```\n",
    "1. check if function. If function goto: Functions check\n",
    "```python\n",
    "function_output1, function_output2 = function(function variable inputs)\n",
    "```\n",
    "*integrate/diff/math will be it's own functions*\n",
    "1. check for trailing operators\n",
    "```\n",
    "x=1+2+\n",
    "```\n",
    "1. check for double operators (+,-,*,^,/)\n",
    "```\n",
    "x=1++2\n",
    "```\n",
    "1. numbers out for float out of range\n",
    "```\n",
    "+/- 3.4E+38\n",
    "```\n",
    "1. check for extra parenthesis\n",
    "```\n",
    "x = 2*(1+1))\n",
    "y+1 = (2+7(9+7)*2)\n",
    "```\n"
   ]
  },
  {
   "cell_type": "markdown",
   "metadata": {
    "collapsed": true
   },
   "source": [
    "### Backround Format Function:\n",
    "to reformate user entered code for more uniform usage\n",
    "\n",
    "1. exponent/power notation\n",
    "```\n",
    "^ --> **\n",
    "```\n",
    "1. give implied multiplication\n",
    "```\n",
    "x=2(2) --> x=2*2\n",
    "```\n",
    "\n"
   ]
  },
  {
   "cell_type": "markdown",
   "metadata": {},
   "source": [
    "## Functions Check\n",
    "- check library of functions for prior usage\n",
    "- check current file and reference files\n"
   ]
  },
  {
   "cell_type": "code",
   "execution_count": null,
   "metadata": {
    "collapsed": true
   },
   "outputs": [],
   "source": []
  }
 ],
 "metadata": {
  "kernelspec": {
   "display_name": "Python 3",
   "language": "python",
   "name": "python3"
  },
  "language_info": {
   "codemirror_mode": {
    "name": "ipython",
    "version": 3
   },
   "file_extension": ".py",
   "mimetype": "text/x-python",
   "name": "python",
   "nbconvert_exporter": "python",
   "pygments_lexer": "ipython3",
   "version": "3.6.1"
  }
 },
 "nbformat": 4,
 "nbformat_minor": 1
}
